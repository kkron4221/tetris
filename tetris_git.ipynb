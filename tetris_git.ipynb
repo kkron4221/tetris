{
 "cells": [
  {
   "cell_type": "code",
   "execution_count": null,
   "metadata": {},
   "outputs": [],
   "source": [
    "import tkinter as tk\n",
    "root = tk.Tk()\n",
    "root.title('Bomb!')\n",
    "root.geometry(\"400x300\")\n",
    "\n",
    "canvas = tk.Canvas(root, width = 800, height = 450)\n",
    "for i in range(0, 18):\n",
    "    canvas.create_rectangle(0, 15 * i, 15, 15 * (i + 1), fill = 'green', outline = 'black')\n",
    "    canvas.create_rectangle(210, 15 * i, 225, 15 * (i + 1), fill = 'green', outline = 'black')\n",
    "for i in range(0, 15):\n",
    "    canvas.create_rectangle(15 * i, 270, 15 * (i + 1), 285, fill = 'green', outline = 'black')\n",
    "\n",
    "canvas.place(x=0, y=0)\n",
    "\n",
    "root.mainloop()"
   ]
  }
 ],
 "metadata": {
  "kernelspec": {
   "display_name": "Python 3",
   "language": "python",
   "name": "python3"
  },
  "language_info": {
   "codemirror_mode": {
    "name": "ipython",
    "version": 3
   },
   "file_extension": ".py",
   "mimetype": "text/x-python",
   "name": "python",
   "nbconvert_exporter": "python",
   "pygments_lexer": "ipython3",
   "version": "3.7.2"
  }
 },
 "nbformat": 4,
 "nbformat_minor": 2
}
